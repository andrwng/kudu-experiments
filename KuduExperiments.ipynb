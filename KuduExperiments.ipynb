{
 "cells": [
  {
   "cell_type": "code",
   "execution_count": 66,
   "metadata": {
    "collapsed": true
   },
   "outputs": [],
   "source": [
    "from kudu_metrics_log import *\n",
    "import glob\n",
    "import numpy\n",
    "import os\n",
    "from matplotlib import pyplot as plt"
   ]
  },
  {
   "cell_type": "code",
   "execution_count": 67,
   "metadata": {
    "collapsed": true
   },
   "outputs": [],
   "source": [
    "EXPS_HOME = \"/home/awong/8/kudu-experiments\""
   ]
  },
  {
   "cell_type": "code",
   "execution_count": 68,
   "metadata": {
    "collapsed": true
   },
   "outputs": [],
   "source": [
    "def cluster_metrics_for_workload(workload, cluster=\"**\"):\n",
    "    clusters_glob = glob.glob(\"{}/logs/{}/**\".format(EXPS_HOME, workload))\n",
    "    cluster_to_metrics = {}\n",
    "    for cluster_dir in clusters_glob:\n",
    "        cluster_to_metrics[os.path.basename(cluster_dir)] = glob.glob(\"{}/tservers/**/**\".format(cluster_dir))\n",
    "    return cluster_to_metrics"
   ]
  },
  {
   "cell_type": "code",
   "execution_count": 69,
   "metadata": {
    "collapsed": true
   },
   "outputs": [],
   "source": [
    "# (\"sequential_auto-2018-05-23_1805\", \"ec2-efs\")"
   ]
  },
  {
   "cell_type": "code",
   "execution_count": 70,
   "metadata": {},
   "outputs": [
    {
     "name": "stdout",
     "output_type": "stream",
     "text": [
      "time\n",
      "mrs_size\n",
      "mem_rejections_per_sec\n",
      "log_bytes_w_per_sec\n",
      "bm_bytes_w_per_sec\n",
      "inserts_per_sec\n",
      "bloom_lookups_p50\n",
      "bloom_lookups_p95\n",
      "bloom_lookups_p99\n",
      "bloom_lookups_p999\n",
      "rpc_queue_time_p50\n",
      "rpc_queue_time_p95\n",
      "rpc_queue_time_p99\n",
      "rpc_queue_time_p999\n",
      "write_p50\n",
      "write_p95\n",
      "write_p99\n",
      "write_p999\n",
      "prepare_queue_length_p50\n",
      "prepare_queue_length_p95\n",
      "prepare_queue_length_p99\n",
      "prepare_queue_length_p999\n",
      "log_append_us_p50\n",
      "log_append_us_p95\n",
      "log_append_us_p99\n",
      "log_append_us_p999\n",
      "apply_queue_length_p50\n",
      "apply_queue_length_p95\n",
      "apply_queue_length_p99\n",
      "apply_queue_length_p999\n",
      "apply_queue_time_us_p50\n",
      "apply_queue_time_us_p95\n",
      "apply_queue_time_us_p99\n",
      "apply_queue_time_us_p999\n",
      "apply_run_time_us_p50\n",
      "apply_run_time_us_p95\n",
      "apply_run_time_us_p99\n",
      "apply_run_time_us_p999\n",
      "------\n",
      "Cluster: ec2-ephemeral\n",
      "Cluster: ec2-efs\n"
     ]
    }
   ],
   "source": [
    "workload = \"true_seq_2bucket_1024-2018-05-28_2217\"\n",
    "cluster_to_metric_files = cluster_metrics_for_workload(workload)\n",
    "cluster_to_parser = {}\n",
    "need_print = True\n",
    "for cluster in cluster_to_metric_files:\n",
    "    cluster_to_parser[cluster] = MetricsLogParser(cluster_to_metric_files[cluster])\n",
    "    if need_print:\n",
    "        for c in cluster_to_parser[cluster].column_names():\n",
    "            print c\n",
    "        print \"------\"\n",
    "        need_print = False\n",
    "    print \"Cluster: {}\".format(cluster)"
   ]
  },
  {
   "cell_type": "code",
   "execution_count": 71,
   "metadata": {
    "collapsed": true,
    "scrolled": true
   },
   "outputs": [],
   "source": [
    "cluster_to_metrics = {}\n",
    "for cluster, p in cluster_to_parser.iteritems():\n",
    "    cluster_to_metrics[cluster] = \\\n",
    "        numpy.array(list(p), dtype=[(colname, float) for colname in p.column_names()])"
   ]
  },
  {
   "cell_type": "code",
   "execution_count": 72,
   "metadata": {
    "scrolled": true
   },
   "outputs": [
    {
     "name": "stdout",
     "output_type": "stream",
     "text": [
      "ec2-ephemeral\n",
      "ec2-efs\n"
     ]
    },
    {
     "data": {
      "image/png": "[encoded data removed]",
      "text/plain": [
       "<Figure size 1440x360 with 1 Axes>"
      ]
     },
     "metadata": {},
     "output_type": "display_data"
    }
   ],
   "source": [
    "fig = plt.figure(figsize=(20, 5))\n",
    "ax = fig.add_subplot(1, 1, 1)\n",
    "metric_name = \"inserts_per_sec\"\n",
    "\n",
    "for cluster, metrics in cluster_to_metrics.iteritems():\n",
    "    print cluster\n",
    "    ax.plot(metrics[metric_name])\n",
    "ax.legend([c for c in cluster_to_metrics])\n",
    "plt.show()"
   ]
  },
  {
   "cell_type": "code",
   "execution_count": null,
   "metadata": {
    "collapsed": true
   },
   "outputs": [],
   "source": []
  },
  {
   "cell_type": "code",
   "execution_count": null,
   "metadata": {
    "collapsed": true
   },
   "outputs": [],
   "source": []
  },
  {
   "cell_type": "code",
   "execution_count": null,
   "metadata": {
    "collapsed": true
   },
   "outputs": [],
   "source": []
  }
 ],
 "metadata": {
  "kernelspec": {
   "display_name": "Python 2",
   "language": "python",
   "name": "python2"
  },
  "language_info": {
   "codemirror_mode": {
    "name": "ipython",
    "version": 2
   },
   "file_extension": ".py",
   "mimetype": "text/x-python",
   "name": "python",
   "nbconvert_exporter": "python",
   "pygments_lexer": "ipython2",
   "version": "2.7.5"
  }
 },
 "nbformat": 4,
 "nbformat_minor": 2
}
